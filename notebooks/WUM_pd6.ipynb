{
 "cells": [
  {
   "cell_type": "markdown",
   "metadata": {},
   "source": [
    "# WUM homework 6\n",
    "\n",
    "Authors: Dawid Płudowski, Antoni Zajko\n",
    "\n",
    "Revewers: Grzegorz Zakrzewski, Tomasz Modzelewski"
   ]
  },
  {
   "cell_type": "code",
   "execution_count": null,
   "metadata": {},
   "outputs": [],
   "source": []
  }
 ],
 "metadata": {
  "interpreter": {
   "hash": "5b3c9b9590df82bbad0bb62ea9ed1e26128515abe7f97df0aa423b130141ae23"
  },
  "kernelspec": {
   "display_name": "Python 3.9.2 ('datascience')",
   "language": "python",
   "name": "python3"
  },
  "language_info": {
   "name": "python",
   "version": "3.9.2"
  },
  "orig_nbformat": 4
 },
 "nbformat": 4,
 "nbformat_minor": 2
}
